{
 "cells": [
  {
   "cell_type": "markdown",
   "metadata": {
    "slideshow": {
     "slide_type": "slide"
    }
   },
   "source": [
    "# Part II - Ford GoBike System (FGBS) Data\n",
    "## Chiebuka Okoro"
   ]
  },
  {
   "cell_type": "markdown",
   "metadata": {
    "slideshow": {
     "slide_type": "skip"
    }
   },
   "source": [
    ">**Before you start**: You must have the README.md file ready that include a summary of main findings that reflects on the steps taken during the data exploration (Part I notebook). The README.md file should also describes the key insights that will be conveyed by the explanatory slide deck (Part II  outcome)\n",
    "\n",
    "\n",
    "\n",
    "## Investigation Overview\n",
    "\n",
    "\n",
    "> Describe the overall goals of your presentation here. Add a summary of key insights at the start of the notebook, just as you added in the README.md. This will help your notebook to stay aligned to the key insights you want to include in your slide deck.\n",
    "\n",
    "> **Rubric Tip**: The key insights in the slideshow must match those documented in the README.md summary. \n",
    "\n",
    "\n",
    "## Dataset Overview\n",
    "\n",
    "> Provide a brief overview of the dataset to be presented here."
   ]
  },
  {
   "cell_type": "code",
   "execution_count": 1,
   "metadata": {
    "slideshow": {
     "slide_type": "skip"
    }
   },
   "outputs": [],
   "source": [
    "# import all packages and set plots to be embedded inline\n",
    "import numpy as np\n",
    "import pandas as pd\n",
    "import matplotlib.pyplot as plt\n",
    "import seaborn as sb\n",
    "\n",
    "%matplotlib inline\n",
    "\n",
    "# suppress warnings from final output\n",
    "import warnings\n",
    "warnings.simplefilter(\"ignore\")"
   ]
  },
  {
   "cell_type": "code",
   "execution_count": 2,
   "metadata": {
    "slideshow": {
     "slide_type": "skip"
    }
   },
   "outputs": [
    {
     "data": {
      "text/html": [
       "<div>\n",
       "<style scoped>\n",
       "    .dataframe tbody tr th:only-of-type {\n",
       "        vertical-align: middle;\n",
       "    }\n",
       "\n",
       "    .dataframe tbody tr th {\n",
       "        vertical-align: top;\n",
       "    }\n",
       "\n",
       "    .dataframe thead th {\n",
       "        text-align: right;\n",
       "    }\n",
       "</style>\n",
       "<table border=\"1\" class=\"dataframe\">\n",
       "  <thead>\n",
       "    <tr style=\"text-align: right;\">\n",
       "      <th></th>\n",
       "      <th>duration_sec</th>\n",
       "      <th>start_time</th>\n",
       "      <th>end_time</th>\n",
       "      <th>start_station_id</th>\n",
       "      <th>end_station_id</th>\n",
       "      <th>bike_id</th>\n",
       "      <th>user_type</th>\n",
       "      <th>member_birth_year</th>\n",
       "      <th>member_gender</th>\n",
       "      <th>bike_share_for_all_trip</th>\n",
       "      <th>pickup_day</th>\n",
       "      <th>return_day</th>\n",
       "      <th>year</th>\n",
       "      <th>age</th>\n",
       "    </tr>\n",
       "  </thead>\n",
       "  <tbody>\n",
       "    <tr>\n",
       "      <th>0</th>\n",
       "      <td>52185</td>\n",
       "      <td>2019-02-28 17:32:10.145</td>\n",
       "      <td>2019-03-01 08:01:55.975</td>\n",
       "      <td>21.0</td>\n",
       "      <td>13.0</td>\n",
       "      <td>4902</td>\n",
       "      <td>Customer</td>\n",
       "      <td>1984.0</td>\n",
       "      <td>Male</td>\n",
       "      <td>No</td>\n",
       "      <td>Thursday</td>\n",
       "      <td>Friday</td>\n",
       "      <td>2019</td>\n",
       "      <td>35.0</td>\n",
       "    </tr>\n",
       "    <tr>\n",
       "      <th>1</th>\n",
       "      <td>61854</td>\n",
       "      <td>2019-02-28 12:13:13.218</td>\n",
       "      <td>2019-03-01 05:24:08.146</td>\n",
       "      <td>86.0</td>\n",
       "      <td>3.0</td>\n",
       "      <td>5905</td>\n",
       "      <td>Customer</td>\n",
       "      <td>1972.0</td>\n",
       "      <td>Male</td>\n",
       "      <td>No</td>\n",
       "      <td>Thursday</td>\n",
       "      <td>Friday</td>\n",
       "      <td>2019</td>\n",
       "      <td>47.0</td>\n",
       "    </tr>\n",
       "    <tr>\n",
       "      <th>2</th>\n",
       "      <td>36490</td>\n",
       "      <td>2019-02-28 17:54:26.010</td>\n",
       "      <td>2019-03-01 04:02:36.842</td>\n",
       "      <td>375.0</td>\n",
       "      <td>70.0</td>\n",
       "      <td>6638</td>\n",
       "      <td>Subscriber</td>\n",
       "      <td>1989.0</td>\n",
       "      <td>Other</td>\n",
       "      <td>No</td>\n",
       "      <td>Thursday</td>\n",
       "      <td>Friday</td>\n",
       "      <td>2019</td>\n",
       "      <td>30.0</td>\n",
       "    </tr>\n",
       "    <tr>\n",
       "      <th>3</th>\n",
       "      <td>1585</td>\n",
       "      <td>2019-02-28 23:54:18.549</td>\n",
       "      <td>2019-03-01 00:20:44.074</td>\n",
       "      <td>7.0</td>\n",
       "      <td>222.0</td>\n",
       "      <td>4898</td>\n",
       "      <td>Subscriber</td>\n",
       "      <td>1974.0</td>\n",
       "      <td>Male</td>\n",
       "      <td>Yes</td>\n",
       "      <td>Thursday</td>\n",
       "      <td>Friday</td>\n",
       "      <td>2019</td>\n",
       "      <td>45.0</td>\n",
       "    </tr>\n",
       "    <tr>\n",
       "      <th>4</th>\n",
       "      <td>1793</td>\n",
       "      <td>2019-02-28 23:49:58.632</td>\n",
       "      <td>2019-03-01 00:19:51.760</td>\n",
       "      <td>93.0</td>\n",
       "      <td>323.0</td>\n",
       "      <td>5200</td>\n",
       "      <td>Subscriber</td>\n",
       "      <td>1959.0</td>\n",
       "      <td>Male</td>\n",
       "      <td>No</td>\n",
       "      <td>Thursday</td>\n",
       "      <td>Friday</td>\n",
       "      <td>2019</td>\n",
       "      <td>60.0</td>\n",
       "    </tr>\n",
       "  </tbody>\n",
       "</table>\n",
       "</div>"
      ],
      "text/plain": [
       "   duration_sec               start_time                 end_time  \\\n",
       "0         52185  2019-02-28 17:32:10.145  2019-03-01 08:01:55.975   \n",
       "1         61854  2019-02-28 12:13:13.218  2019-03-01 05:24:08.146   \n",
       "2         36490  2019-02-28 17:54:26.010  2019-03-01 04:02:36.842   \n",
       "3          1585  2019-02-28 23:54:18.549  2019-03-01 00:20:44.074   \n",
       "4          1793  2019-02-28 23:49:58.632  2019-03-01 00:19:51.760   \n",
       "\n",
       "   start_station_id  end_station_id  bike_id   user_type  member_birth_year  \\\n",
       "0              21.0            13.0     4902    Customer             1984.0   \n",
       "1              86.0             3.0     5905    Customer             1972.0   \n",
       "2             375.0            70.0     6638  Subscriber             1989.0   \n",
       "3               7.0           222.0     4898  Subscriber             1974.0   \n",
       "4              93.0           323.0     5200  Subscriber             1959.0   \n",
       "\n",
       "  member_gender bike_share_for_all_trip pickup_day return_day  year   age  \n",
       "0          Male                      No   Thursday     Friday  2019  35.0  \n",
       "1          Male                      No   Thursday     Friday  2019  47.0  \n",
       "2         Other                      No   Thursday     Friday  2019  30.0  \n",
       "3          Male                     Yes   Thursday     Friday  2019  45.0  \n",
       "4          Male                      No   Thursday     Friday  2019  60.0  "
      ]
     },
     "execution_count": 2,
     "metadata": {},
     "output_type": "execute_result"
    }
   ],
   "source": [
    "# load in the dataset into a pandas dataframe\n",
    "bike = pd.read_csv('ford_gobike.csv')\n",
    "bike.head()"
   ]
  },
  {
   "cell_type": "markdown",
   "metadata": {
    "slideshow": {
     "slide_type": "notes"
    }
   },
   "source": [
    "> Note that the above cells have been set as \"Skip\"-type slides. That means\n",
    "that when the notebook is rendered as http slides, those cells won't show up."
   ]
  },
  {
   "cell_type": "markdown",
   "metadata": {
    "slideshow": {
     "slide_type": "slide"
    }
   },
   "source": [
    "## (Visualization 1)\n",
    "\n",
    "# Conversation between me and the newly employed marketing team lead\n",
    "Him: What user type do we have and what's the ratio amongst them?\n",
    "\n",
    "Me: Look below. We have two types of users, namely:\n",
    "\n",
    "1. Customers\n",
    "\n",
    "2. Subscribers\n",
    "\n",
    "And the ratio of customer to subcriber is approximately, 1:8.\n",
    "\n",
    "Him: I was informed that Customers are our premium users. My team and I will work on turning many Subscribers as possible to Customers but first we will do a survey."
   ]
  },
  {
   "cell_type": "code",
   "execution_count": 3,
   "metadata": {
    "slideshow": {
     "slide_type": "subslide"
    }
   },
   "outputs": [
    {
     "data": {
      "image/png": "[encoded data removed]",
      "text/plain": [
       "<Figure size 720x360 with 1 Axes>"
      ]
     },
     "metadata": {
      "needs_background": "light"
     },
     "output_type": "display_data"
    }
   ],
   "source": [
    "# Displays a bar plot of count of users\n",
    "plt.figure(figsize=(10,5))\n",
    "sb.countplot(data=bike, x='user_type');\n",
    "plt.title('Number of Users by User Type')\n",
    "plt.xlabel('User_Type');\n",
    "plt.ylabel('Count of User_Type');"
   ]
  },
  {
   "cell_type": "markdown",
   "metadata": {
    "collapsed": true,
    "slideshow": {
     "slide_type": "slide"
    }
   },
   "source": [
    "# (Visualization 2)\n",
    "\n",
    "## Conversation between me and the newly employed marketing team lead - Contd.\n",
    "Him: I am aware that our company's profit is dependent on rental duration. How does each user type contribute to that?\n",
    "\n",
    "Me: From the visual below, on average a customer's rental duration is more than twice than that of a subscriber\n",
    "\n",
    "Him: Wow, that's a whole lot translating into profits. Imagine the numbers we can reach if we can turn more subscribers to customers. I think I forsee a marketing campaign once the survey is concluded."
   ]
  },
  {
   "cell_type": "code",
   "execution_count": 4,
   "metadata": {
    "slideshow": {
     "slide_type": "subslide"
    }
   },
   "outputs": [
    {
     "data": {
      "image/png": "[encoded data removed]",
      "text/plain": [
       "<Figure size 720x360 with 1 Axes>"
      ]
     },
     "metadata": {
      "needs_background": "light"
     },
     "output_type": "display_data"
    }
   ],
   "source": [
    "#Displays a bar plot of averager bike rental duration (sec) by user type\n",
    "avg_bike_time = bike.groupby(['user_type'])['duration_sec'].mean()\n",
    "\n",
    "avg_bike_time.plot(kind='bar', title='Average Bike Rental Duration by User Type', ylabel='Average Duration (sec)',\n",
    "         xlabel='User Type', figsize=(10, 5));"
   ]
  },
  {
   "cell_type": "markdown",
   "metadata": {
    "slideshow": {
     "slide_type": "slide"
    }
   },
   "source": [
    "# (Visualization 3)\n",
    "\n",
    "## Conversation between me and the newly employed marketing team lead - Contd.\n",
    "\n",
    "Him: We want to do a promo for all user but we need to know the age distribution of our users so as to finalize the details of the promo\n",
    "\n",
    "Me: Form the chat below, majority of our users fall between age 18 and 40.\n",
    "\n",
    "Him: Thanks for your time, I will take this back to the team. Do enjoy the rest of your day.\n",
    "\n",
    "Me: Thanks."
   ]
  },
  {
   "cell_type": "code",
   "execution_count": 5,
   "metadata": {
    "slideshow": {
     "slide_type": "subslide"
    }
   },
   "outputs": [
    {
     "data": {
      "image/png": "[encoded data removed]",
      "text/plain": [
       "<Figure size 720x360 with 1 Axes>"
      ]
     },
     "metadata": {
      "needs_background": "light"
     },
     "output_type": "display_data"
    }
   ],
   "source": [
    "plt.figure(figsize=(10,5))\n",
    "plt.hist(bike['age'], bins = 30);\n",
    "plt.title('Age Distribution Plot')\n",
    "plt.xlabel('Age');\n",
    "plt.ylabel('Count of Age');"
   ]
  },
  {
   "cell_type": "markdown",
   "metadata": {
    "slideshow": {
     "slide_type": "skip"
    }
   },
   "source": [
    "### Generate Slideshow\n",
    "Once you're ready to generate your slideshow, use the `jupyter nbconvert` command to generate the HTML slide show.  "
   ]
  },
  {
   "cell_type": "code",
   "execution_count": 2,
   "metadata": {
    "slideshow": {
     "slide_type": "skip"
    }
   },
   "outputs": [
    {
     "name": "stderr",
     "output_type": "stream",
     "text": [
      "[NbConvertApp] Converting notebook Part_II_Ford_GoBike_System_Data.ipynb to slides\n",
      "[NbConvertApp] Writing 625003 bytes to Part_II_Ford_GoBike_System_Data.slides.html\n",
      "[NbConvertApp] Redirecting reveal.js requests to https://cdnjs.cloudflare.com/ajax/libs/reveal.js/3.5.0\n",
      "Traceback (most recent call last):\n",
      "  File \"C:\\Anaconda\\Scripts\\jupyter-nbconvert-script.py\", line 10, in <module>\n",
      "    sys.exit(main())\n",
      "  File \"C:\\Anaconda\\lib\\site-packages\\jupyter_core\\application.py\", line 264, in launch_instance\n",
      "    return super(JupyterApp, cls).launch_instance(argv=argv, **kwargs)\n",
      "  File \"C:\\Anaconda\\lib\\site-packages\\traitlets\\config\\application.py\", line 846, in launch_instance\n",
      "    app.start()\n",
      "  File \"C:\\Anaconda\\lib\\site-packages\\nbconvert\\nbconvertapp.py\", line 369, in start\n",
      "    self.convert_notebooks()\n",
      "  File \"C:\\Anaconda\\lib\\site-packages\\nbconvert\\nbconvertapp.py\", line 541, in convert_notebooks\n",
      "    self.convert_single_notebook(notebook_filename)\n",
      "  File \"C:\\Anaconda\\lib\\site-packages\\nbconvert\\nbconvertapp.py\", line 508, in convert_single_notebook\n",
      "    self.postprocess_single_notebook(write_results)\n",
      "  File \"C:\\Anaconda\\lib\\site-packages\\nbconvert\\nbconvertapp.py\", line 480, in postprocess_single_notebook\n",
      "    self.postprocessor(write_results)\n",
      "  File \"C:\\Anaconda\\lib\\site-packages\\nbconvert\\postprocessors\\base.py\", line 28, in __call__\n",
      "    self.postprocess(input)\n",
      "  File \"C:\\Anaconda\\lib\\site-packages\\nbconvert\\postprocessors\\serve.py\", line 90, in postprocess\n",
      "    http_server.listen(self.port, address=self.ip)\n",
      "  File \"C:\\Anaconda\\lib\\site-packages\\tornado\\tcpserver.py\", line 151, in listen\n",
      "    sockets = bind_sockets(port, address=address)\n",
      "  File \"C:\\Anaconda\\lib\\site-packages\\tornado\\netutil.py\", line 161, in bind_sockets\n",
      "    sock.bind(sockaddr)\n",
      "OSError: [WinError 10048] Only one usage of each socket address (protocol/network address/port) is normally permitted\n"
     ]
    }
   ],
   "source": [
    "# Use this command if you are running this file in local\n",
    "#!jupyter nbconvert Part_II_Ford_GoBike_System_Data.ipynb --to slides --template output_toggle.tpl --post serve\n",
    "!jupyter nbconvert Part_II_Ford_GoBike_System_Data.ipynb --to slides --post serve --no-input --no-prompt\n",
    "#!jupyter nbconvert Part_II_Ford_GoBike_System_Data.ipynb --to slides --template output-toggle.tpl\n",
    "#--post serve"
   ]
  },
  {
   "cell_type": "markdown",
   "metadata": {
    "slideshow": {
     "slide_type": "skip"
    }
   },
   "source": [
    "I have done what was done during the course but it keeps throwing this error:\n",
    "\n",
    "[NbConvertApp] Converting notebook Part_II_Ford_GoBike_System_Data.ipynb to slides\n",
    "Traceback (most recent call last):\n",
    "  File \"C:\\Anaconda\\Scripts\\jupyter-nbconvert-script.py\", line 10, in <module>\n",
    "    sys.exit(main())\n",
    "  File \"C:\\Anaconda\\lib\\site-packages\\jupyter_core\\application.py\", line 264, in launch_instance\n",
    "    return super(JupyterApp, cls).launch_instance(argv=argv, **kwargs)\n",
    "  File \"C:\\Anaconda\\lib\\site-packages\\traitlets\\config\\application.py\", line 846, in launch_instance\n",
    "    app.start()\n",
    "  File \"C:\\Anaconda\\lib\\site-packages\\nbconvert\\nbconvertapp.py\", line 369, in start\n",
    "    self.convert_notebooks()\n",
    "  File \"C:\\Anaconda\\lib\\site-packages\\nbconvert\\nbconvertapp.py\", line 541, in convert_notebooks\n",
    "    self.convert_single_notebook(notebook_filename)\n",
    "  File \"C:\\Anaconda\\lib\\site-packages\\nbconvert\\nbconvertapp.py\", line 506, in convert_single_notebook\n",
    "    output, resources = self.export_single_notebook(notebook_filename, resources, input_buffer=input_buffer)\n",
    "  File \"C:\\Anaconda\\lib\\site-packages\\nbconvert\\nbconvertapp.py\", line 435, in export_single_notebook\n",
    "    output, resources = self.exporter.from_filename(notebook_filename, resources=resources)\n",
    "  File \"C:\\Anaconda\\lib\\site-packages\\nbconvert\\exporters\\exporter.py\", line 190, in from_filename\n",
    "    return self.from_file(f, resources=resources, **kw)\n",
    "  File \"C:\\Anaconda\\lib\\site-packages\\nbconvert\\exporters\\exporter.py\", line 208, in from_file\n",
    "    return self.from_notebook_node(nbformat.read(file_stream, as_version=4), resources=resources, **kw)\n",
    "  File \"C:\\Anaconda\\lib\\site-packages\\nbconvert\\exporters\\html.py\", line 210, in from_notebook_node\n",
    "    return super().from_notebook_node(nb, resources, **kw)\n",
    "  File \"C:\\Anaconda\\lib\\site-packages\\nbconvert\\exporters\\templateexporter.py\", line 392, in from_notebook_node\n",
    "    output = self.template.render(nb=nb_copy, resources=resources)\n",
    "  File \"C:\\Anaconda\\lib\\site-packages\\jinja2\\environment.py\", line 1090, in render\n",
    "    self.environment.handle_exception()\n",
    "  File \"C:\\Anaconda\\lib\\site-packages\\jinja2\\environment.py\", line 832, in handle_exception\n",
    "    reraise(*rewrite_traceback_stack(source=source))\n",
    "  File \"C:\\Anaconda\\lib\\site-packages\\jinja2\\_compat.py\", line 28, in reraise\n",
    "    raise value.with_traceback(tb)\n",
    "  File \"C:\\Users\\Snapnet User\\AppData\\Roaming\\jupyter\\output_toggle.tpl\", line 5, in top-level template code\n",
    "    {%- extends 'slides_reveal.tpl' -%}\n",
    "jinja2.exceptions.TemplateNotFound: slides_reveal.tpl\n",
    "    \n",
    "    \n",
    "I will appreciate help here. Thanks"
   ]
  },
  {
   "cell_type": "markdown",
   "metadata": {
    "slideshow": {
     "slide_type": "skip"
    }
   },
   "source": [
    "Using the given recommendation: jupyter nbconvert Part_II_Ford_GoBike_System_Data.ipynb --to slides --post serve --no-input --no-prompt, I am still having an error. Please, see error below.\n",
    "\n",
    "\n",
    "[NbConvertApp] Converting notebook Part_II_Ford_GoBike_System_Data.ipynb to slides\n",
    "[NbConvertApp] Writing 627955 bytes to Part_II_Ford_GoBike_System_Data.slides.html\n",
    "[NbConvertApp] Redirecting reveal.js requests to https://cdnjs.cloudflare.com/ajax/libs/reveal.js/3.5.0\n",
    "Traceback (most recent call last):\n",
    "  File \"C:\\Anaconda\\Scripts\\jupyter-nbconvert-script.py\", line 10, in <module>\n",
    "    sys.exit(main())\n",
    "  File \"C:\\Anaconda\\lib\\site-packages\\jupyter_core\\application.py\", line 264, in launch_instance\n",
    "    return super(JupyterApp, cls).launch_instance(argv=argv, **kwargs)\n",
    "  File \"C:\\Anaconda\\lib\\site-packages\\traitlets\\config\\application.py\", line 846, in launch_instance\n",
    "    app.start()\n",
    "  File \"C:\\Anaconda\\lib\\site-packages\\nbconvert\\nbconvertapp.py\", line 369, in start\n",
    "    self.convert_notebooks()\n",
    "  File \"C:\\Anaconda\\lib\\site-packages\\nbconvert\\nbconvertapp.py\", line 541, in convert_notebooks\n",
    "    self.convert_single_notebook(notebook_filename)\n",
    "  File \"C:\\Anaconda\\lib\\site-packages\\nbconvert\\nbconvertapp.py\", line 508, in convert_single_notebook\n",
    "    self.postprocess_single_notebook(write_results)\n",
    "  File \"C:\\Anaconda\\lib\\site-packages\\nbconvert\\nbconvertapp.py\", line 480, in postprocess_single_notebook\n",
    "    self.postprocessor(write_results)\n",
    "  File \"C:\\Anaconda\\lib\\site-packages\\nbconvert\\postprocessors\\base.py\", line 28, in __call__\n",
    "    self.postprocess(input)\n",
    "  File \"C:\\Anaconda\\lib\\site-packages\\nbconvert\\postprocessors\\serve.py\", line 90, in postprocess\n",
    "    http_server.listen(self.port, address=self.ip)\n",
    "  File \"C:\\Anaconda\\lib\\site-packages\\tornado\\tcpserver.py\", line 151, in listen\n",
    "    sockets = bind_sockets(port, address=address)\n",
    "  File \"C:\\Anaconda\\lib\\site-packages\\tornado\\netutil.py\", line 161, in bind_sockets\n",
    "    sock.bind(sockaddr)\n",
    "OSError: [WinError 10048] Only one usage of each socket address (protocol/network address/port) is normally permitted\n",
    "    \n",
    "I will really appreciate help to get this sorted."
   ]
  },
  {
   "cell_type": "markdown",
   "metadata": {
    "slideshow": {
     "slide_type": "skip"
    }
   },
   "source": [
    "> In the classroom workspace, the generated HTML slideshow will be placed in the home folder. \n",
    "\n",
    "> In local machines, the command above should open a tab in your web browser where you can scroll through your presentation. Sub-slides can be accessed by pressing 'down' when viewing its parent slide. Make sure you remove all of the quote-formatted guide notes like this one before you finish your presentation! At last, you can stop the Kernel. "
   ]
  },
  {
   "cell_type": "markdown",
   "metadata": {
    "slideshow": {
     "slide_type": "skip"
    }
   },
   "source": [
    "### Submission\n",
    "If you are using classroom workspace, you can choose from the following two ways of submission:\n",
    "\n",
    "1. **Submit from the workspace**. Make sure you have removed the example project from the /home/workspace directory. You must submit the following files:\n",
    "   - Part_I_notebook.ipynb\n",
    "   - Part_I_notebook.html or pdf\n",
    "   - Part_II_notebook.ipynb\n",
    "   - Part_I_slides.html\n",
    "   - README.md\n",
    "   - dataset (optional)\n",
    "\n",
    "\n",
    "2. **Submit a zip file on the last page of this project lesson**. In this case, open the Jupyter terminal and run the command below to generate a ZIP file. \n",
    "```bash\n",
    "zip -r my_project.zip .\n",
    "```\n",
    "The command abobve will ZIP every file present in your /home/workspace directory. Next, you can download the zip to your local, and follow the instructions on the last page of this project lesson.\n"
   ]
  },
  {
   "cell_type": "code",
   "execution_count": null,
   "metadata": {},
   "outputs": [],
   "source": []
  }
 ],
 "metadata": {
  "celltoolbar": "Slideshow",
  "kernelspec": {
   "display_name": "Python 3 (ipykernel)",
   "language": "python",
   "name": "python3"
  },
  "language_info": {
   "codemirror_mode": {
    "name": "ipython",
    "version": 3
   },
   "file_extension": ".py",
   "mimetype": "text/x-python",
   "name": "python",
   "nbconvert_exporter": "python",
   "pygments_lexer": "ipython3",
   "version": "3.9.12"
  }
 },
 "nbformat": 4,
 "nbformat_minor": 2
}
